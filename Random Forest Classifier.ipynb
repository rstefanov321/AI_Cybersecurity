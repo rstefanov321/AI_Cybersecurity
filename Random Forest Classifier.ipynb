{
 "cells": [
  {
   "cell_type": "markdown",
   "id": "e83dbb19",
   "metadata": {},
   "source": [
    "# Random Forest Classifier for detecting unusual packet lengths"
   ]
  },
  {
   "cell_type": "markdown",
   "id": "308a4d1c",
   "metadata": {},
   "source": [
    "## Import the necessary libraries"
   ]
  },
  {
   "cell_type": "code",
   "execution_count": 14,
   "id": "3644367f",
   "metadata": {},
   "outputs": [],
   "source": [
    "# for the processing of the .pcap file to a CSV with the important columns\n",
    "import pandas as pd \n",
    "import random\n",
    "import matplotlib.pyplot as plt\n",
    "\n",
    "# those for the Classifier \n",
    "from sklearn.ensemble import RandomForestClassifier\n",
    "from sklearn.model_selection import train_test_split\n",
    "from sklearn.metrics import accuracy_score\n",
    "import socket\n",
    "\n",
    "# and those for the visuals \n",
    "import seaborn as sns\n",
    "from sklearn.metrics import confusion_matrix"
   ]
  },
  {
   "cell_type": "markdown",
   "id": "860df551",
   "metadata": {},
   "source": [
    "## Get the CSV file data extracted from the pcap file earlier"
   ]
  },
  {
   "cell_type": "code",
   "execution_count": 15,
   "id": "a4a51b06",
   "metadata": {},
   "outputs": [
    {
     "name": "stdout",
     "output_type": "stream",
     "text": [
      "      Timestamp       Source IP  Destination IP  packet length protocol\n",
      "0  1.682191e+09  40.114.177.156   192.168.100.5             93      TLS\n",
      "1  1.682191e+09  40.114.177.156   192.168.100.5             78      TLS\n",
      "2  1.682191e+09   192.168.100.5  40.114.177.156             54      TCP\n",
      "3  1.682191e+09   192.168.100.5  40.114.177.156             93      TLS\n",
      "4  1.682191e+09   192.168.100.5  40.114.177.156             78      TLS\n"
     ]
    }
   ],
   "source": [
    "with open(\"output_results_tor.csv\") as csvfile: \n",
    "    df = pd.read_csv(csvfile)\n",
    "print(df.head())"
   ]
  },
  {
   "cell_type": "markdown",
   "id": "a4a90fbe",
   "metadata": {},
   "source": [
    "Show how many unique IP addresses were recorded for further processing. "
   ]
  },
  {
   "cell_type": "code",
   "execution_count": 16,
   "id": "dd3fb184",
   "metadata": {},
   "outputs": [
    {
     "name": "stdout",
     "output_type": "stream",
     "text": [
      "['40.114.177.156' '192.168.100.5' '104.16.99.29' '192.229.221.95'\n",
      " '192.168.100.1' '142.251.141.45' '20.54.24.148' '172.217.17.99'\n",
      " '23.50.184.71' '172.217.169.138' '216.58.212.1' '142.250.184.131'\n",
      " '162.125.66.18' '162.125.248.18' '13.107.21.239' '162.159.136.234'\n",
      " '35.174.127.31' '18.165.61.89' '18.165.61.28' '10.0.0.0' '100.24.223.135'\n",
      " '34.120.208.123' '2.16.19.19' '13.107.140.254' '162.125.66.15'\n",
      " '52.108.9.254' '20.189.173.6' '204.79.197.222' '13.107.237.254'\n",
      " '93.186.137.157' '150.171.40.254' '13.107.3.254' '162.125.20.1'\n",
      " '34.117.65.55' '162.125.66.16' '20.190.160.23' '20.105.73.143'\n",
      " '95.100.137.216' '52.156.99.28' '13.69.141.149' '20.112.98.140'\n",
      " '137.116.225.129' '52.156.147.113' '2.17.245.133' '20.8.16.139'\n",
      " '13.107.237.60' '212.95.165.43' '52.182.141.63' '82.220.38.150'\n",
      " '94.230.208.147' '178.254.13.227' '145.239.41.102' '94.242.61.178'\n",
      " '162.159.128.233']\n",
      "Unique Source IPs count:  54\n"
     ]
    }
   ],
   "source": [
    "print(df[\"Source IP\"].unique())\n",
    "print(\"Unique Source IPs count: \", len(df[\"Source IP\"].unique()))"
   ]
  },
  {
   "cell_type": "markdown",
   "id": "f58283d3",
   "metadata": {},
   "source": [
    "## Setting the categorization and random assignment of categories for Test 1"
   ]
  },
  {
   "cell_type": "code",
   "execution_count": 17,
   "id": "19e0772a",
   "metadata": {},
   "outputs": [],
   "source": [
    "unique_ips = df[\"Source IP\"].unique()\n",
    "\n",
    "# Categorization\n",
    "cat_dict = {\n",
    "    \"legitimate\": 1, \n",
    "    \"backdoor\": 4, \n",
    "    \"malware\": 2, \n",
    "    \"ransomware\": 3,\n",
    "}\n",
    "\n",
    "\n",
    "def generate_category():\n",
    "    global cat_dict\n",
    "    random_key = random.choice(list(cat_dict.keys()))\n",
    "    random_value = cat_dict[random_key]\n",
    "    \n",
    "    return random_value\n",
    "#     print the result\n",
    "#     print(f\"Random Key/Value Pair: {random_key}/{random_value}\")\n"
   ]
  },
  {
   "cell_type": "markdown",
   "id": "3211e715",
   "metadata": {},
   "source": [
    "## Preprocess IP function to make it a list of numerical values"
   ]
  },
  {
   "cell_type": "code",
   "execution_count": 18,
   "id": "3d75b3e2",
   "metadata": {},
   "outputs": [],
   "source": [
    "def preprocess_ip(ip):\n",
    "    try:\n",
    "        # extract octets from IP address\n",
    "        octets = ip.split(\".\")\n",
    "#         convert octets to integers \n",
    "        octets = [int(octet) for octet in octets]\n",
    "        # return octets as a list\n",
    "        return octets\n",
    "    except:\n",
    "        return None"
   ]
  },
  {
   "cell_type": "markdown",
   "id": "4352a4d7",
   "metadata": {},
   "source": [
    "## Creating the first Classification Test"
   ]
  },
  {
   "cell_type": "code",
   "execution_count": 19,
   "id": "9a08170a",
   "metadata": {},
   "outputs": [],
   "source": [
    "ips_list = []\n",
    "list_cats = []\n",
    "\n",
    "for ip_address in df[\"Source IP\"].unique():\n",
    "    ip_rand_cat = df.loc[df[\"Source IP\"]==ip_address, [\"Source IP\", \"packet length\"]]\n",
    "    category = generate_category()\n",
    "    ip_rand_cat[\"Category\"] = category\n",
    "    \n",
    "    # get the X and the Y axis as a list \n",
    "    ips_list.append(ip_address) # the X \n",
    "    list_cats.append(category) # the Y\n"
   ]
  },
  {
   "cell_type": "code",
   "execution_count": 20,
   "id": "8e1e3c92",
   "metadata": {},
   "outputs": [],
   "source": [
    "num_ips_list = []\n",
    "for ip in ips_list:\n",
    "    ip = preprocess_ip(ip)\n",
    "    num_ips_list.append(ip)\n",
    "\n",
    "# print(\"List with the categories per unique IP address: \", list_cats)"
   ]
  },
  {
   "cell_type": "code",
   "execution_count": 21,
   "id": "0e5850b6",
   "metadata": {},
   "outputs": [
    {
     "name": "stdout",
     "output_type": "stream",
     "text": [
      "IPs list expressed as numeric values:  [[40, 114, 177, 156], [192, 168, 100, 5], [104, 16, 99, 29], [192, 229, 221, 95], [192, 168, 100, 1], [142, 251, 141, 45], [20, 54, 24, 148], [172, 217, 17, 99], [23, 50, 184, 71], [172, 217, 169, 138], [216, 58, 212, 1], [142, 250, 184, 131], [162, 125, 66, 18], [162, 125, 248, 18], [13, 107, 21, 239], [162, 159, 136, 234], [35, 174, 127, 31], [18, 165, 61, 89], [18, 165, 61, 28], [10, 0, 0, 0], [100, 24, 223, 135], [34, 120, 208, 123], [2, 16, 19, 19], [13, 107, 140, 254], [162, 125, 66, 15], [52, 108, 9, 254], [20, 189, 173, 6], [204, 79, 197, 222], [13, 107, 237, 254], [93, 186, 137, 157], [150, 171, 40, 254], [13, 107, 3, 254], [162, 125, 20, 1], [34, 117, 65, 55], [162, 125, 66, 16], [20, 190, 160, 23], [20, 105, 73, 143], [95, 100, 137, 216], [52, 156, 99, 28], [13, 69, 141, 149], [20, 112, 98, 140], [137, 116, 225, 129], [52, 156, 147, 113], [2, 17, 245, 133], [20, 8, 16, 139], [13, 107, 237, 60], [212, 95, 165, 43], [52, 182, 141, 63], [82, 220, 38, 150], [94, 230, 208, 147], [178, 254, 13, 227], [145, 239, 41, 102], [94, 242, 61, 178], [162, 159, 128, 233]]\n"
     ]
    }
   ],
   "source": [
    "print(\"IPs list expressed as numeric values: \", num_ips_list)"
   ]
  },
  {
   "cell_type": "code",
   "execution_count": 23,
   "id": "4d560ce2",
   "metadata": {},
   "outputs": [
    {
     "name": "stdout",
     "output_type": "stream",
     "text": [
      "Accuracy:  0.22727272727272727\n"
     ]
    },
    {
     "data": {
      "text/plain": [
       "<AxesSubplot:>"
      ]
     },
     "execution_count": 23,
     "metadata": {},
     "output_type": "execute_result"
    },
    {
     "data": {
      "image/png": "[encoded data removed]",
      "text/plain": [
       "<Figure size 640x480 with 2 Axes>"
      ]
     },
     "metadata": {},
     "output_type": "display_data"
    }
   ],
   "source": [
    "# X = ip_rand_cat[\"ip_features\"].tolist()\n",
    "# y = ip_rand_cat[\"Category\"].tolist()\n",
    "   \n",
    "# Create X and y arrays\n",
    "X = num_ips_list\n",
    "y = list_cats\n",
    "\n",
    "\n",
    "# split dataset into training and testing sets\n",
    "X_train, X_test, y_train, y_test = train_test_split(X, y, test_size=0.4, random_state=42)\n",
    "\n",
    "# Create random forrest classifier object\n",
    "rf = RandomForestClassifier(n_estimators=100, random_state=42)\n",
    "\n",
    "# train the classifier\n",
    "rf.fit(X_train, y_train)\n",
    "\n",
    "# predict on test set\n",
    "y_pred = rf.predict(X_test)\n",
    "\n",
    "\n"
   ]
  },
  {
   "cell_type": "markdown",
   "id": "f2800275",
   "metadata": {},
   "source": [
    "Calculate the accuracy of the model"
   ]
  },
  {
   "cell_type": "code",
   "execution_count": null,
   "id": "db428020",
   "metadata": {},
   "outputs": [],
   "source": [
    "accuracy = accuracy_score(y_test, y_pred)\n",
    "print(\"Accuracy: \", accuracy)"
   ]
  },
  {
   "cell_type": "markdown",
   "id": "9a719a02",
   "metadata": {},
   "source": [
    "Visualise the results using a confusion matrix"
   ]
  },
  {
   "cell_type": "code",
   "execution_count": null,
   "id": "bef4fffb",
   "metadata": {},
   "outputs": [],
   "source": [
    "# Calculate confustion matrix\n",
    "cm = confusion_matrix(y_test, y_pred)\n",
    "\n",
    "# Plot confusion matrix heatmap\n",
    "sns.heatmap(cm, annot=True, cmap=\"Blues\")\n",
    "    "
   ]
  },
  {
   "cell_type": "markdown",
   "id": "7e416ea0",
   "metadata": {},
   "source": [
    "## Splitting the packet lengths into 3 categories based on their Z-score"
   ]
  },
  {
   "cell_type": "code",
   "execution_count": 37,
   "id": "d0112133",
   "metadata": {},
   "outputs": [
    {
     "name": "stderr",
     "output_type": "stream",
     "text": [
      "C:\\Users\\rstef\\AppData\\Local\\Temp\\ipykernel_3104\\761061316.py:59: FutureWarning: The frame.append method is deprecated and will be removed from pandas in a future version. Use pandas.concat instead.\n",
      "  whole_database = whole_database.append(df_ip)\n",
      "C:\\Users\\rstef\\AppData\\Local\\Temp\\ipykernel_3104\\761061316.py:59: FutureWarning: The frame.append method is deprecated and will be removed from pandas in a future version. Use pandas.concat instead.\n",
      "  whole_database = whole_database.append(df_ip)\n",
      "C:\\Users\\rstef\\AppData\\Local\\Temp\\ipykernel_3104\\761061316.py:59: FutureWarning: The frame.append method is deprecated and will be removed from pandas in a future version. Use pandas.concat instead.\n",
      "  whole_database = whole_database.append(df_ip)\n",
      "C:\\Users\\rstef\\AppData\\Local\\Temp\\ipykernel_3104\\761061316.py:59: FutureWarning: The frame.append method is deprecated and will be removed from pandas in a future version. Use pandas.concat instead.\n",
      "  whole_database = whole_database.append(df_ip)\n",
      "C:\\Users\\rstef\\AppData\\Local\\Temp\\ipykernel_3104\\761061316.py:59: FutureWarning: The frame.append method is deprecated and will be removed from pandas in a future version. Use pandas.concat instead.\n",
      "  whole_database = whole_database.append(df_ip)\n",
      "C:\\Users\\rstef\\AppData\\Local\\Temp\\ipykernel_3104\\761061316.py:59: FutureWarning: The frame.append method is deprecated and will be removed from pandas in a future version. Use pandas.concat instead.\n",
      "  whole_database = whole_database.append(df_ip)\n",
      "C:\\Users\\rstef\\AppData\\Local\\Temp\\ipykernel_3104\\761061316.py:59: FutureWarning: The frame.append method is deprecated and will be removed from pandas in a future version. Use pandas.concat instead.\n",
      "  whole_database = whole_database.append(df_ip)\n",
      "C:\\Users\\rstef\\AppData\\Local\\Temp\\ipykernel_3104\\761061316.py:59: FutureWarning: The frame.append method is deprecated and will be removed from pandas in a future version. Use pandas.concat instead.\n",
      "  whole_database = whole_database.append(df_ip)\n",
      "C:\\Users\\rstef\\AppData\\Local\\Temp\\ipykernel_3104\\761061316.py:59: FutureWarning: The frame.append method is deprecated and will be removed from pandas in a future version. Use pandas.concat instead.\n",
      "  whole_database = whole_database.append(df_ip)\n",
      "C:\\Users\\rstef\\AppData\\Local\\Temp\\ipykernel_3104\\761061316.py:59: FutureWarning: The frame.append method is deprecated and will be removed from pandas in a future version. Use pandas.concat instead.\n",
      "  whole_database = whole_database.append(df_ip)\n",
      "C:\\Users\\rstef\\AppData\\Local\\Temp\\ipykernel_3104\\761061316.py:59: FutureWarning: The frame.append method is deprecated and will be removed from pandas in a future version. Use pandas.concat instead.\n",
      "  whole_database = whole_database.append(df_ip)\n",
      "C:\\Users\\rstef\\AppData\\Local\\Temp\\ipykernel_3104\\761061316.py:59: FutureWarning: The frame.append method is deprecated and will be removed from pandas in a future version. Use pandas.concat instead.\n",
      "  whole_database = whole_database.append(df_ip)\n",
      "C:\\Users\\rstef\\AppData\\Local\\Temp\\ipykernel_3104\\761061316.py:59: FutureWarning: The frame.append method is deprecated and will be removed from pandas in a future version. Use pandas.concat instead.\n",
      "  whole_database = whole_database.append(df_ip)\n",
      "C:\\Users\\rstef\\AppData\\Local\\Temp\\ipykernel_3104\\761061316.py:59: FutureWarning: The frame.append method is deprecated and will be removed from pandas in a future version. Use pandas.concat instead.\n",
      "  whole_database = whole_database.append(df_ip)\n",
      "C:\\Users\\rstef\\AppData\\Local\\Temp\\ipykernel_3104\\761061316.py:59: FutureWarning: The frame.append method is deprecated and will be removed from pandas in a future version. Use pandas.concat instead.\n",
      "  whole_database = whole_database.append(df_ip)\n",
      "C:\\Users\\rstef\\AppData\\Local\\Temp\\ipykernel_3104\\761061316.py:59: FutureWarning: The frame.append method is deprecated and will be removed from pandas in a future version. Use pandas.concat instead.\n",
      "  whole_database = whole_database.append(df_ip)\n",
      "C:\\Users\\rstef\\AppData\\Local\\Temp\\ipykernel_3104\\761061316.py:59: FutureWarning: The frame.append method is deprecated and will be removed from pandas in a future version. Use pandas.concat instead.\n",
      "  whole_database = whole_database.append(df_ip)\n",
      "C:\\Users\\rstef\\AppData\\Local\\Temp\\ipykernel_3104\\761061316.py:59: FutureWarning: The frame.append method is deprecated and will be removed from pandas in a future version. Use pandas.concat instead.\n",
      "  whole_database = whole_database.append(df_ip)\n",
      "C:\\Users\\rstef\\AppData\\Local\\Temp\\ipykernel_3104\\761061316.py:59: FutureWarning: The frame.append method is deprecated and will be removed from pandas in a future version. Use pandas.concat instead.\n",
      "  whole_database = whole_database.append(df_ip)\n",
      "C:\\Users\\rstef\\AppData\\Local\\Temp\\ipykernel_3104\\761061316.py:59: FutureWarning: The frame.append method is deprecated and will be removed from pandas in a future version. Use pandas.concat instead.\n",
      "  whole_database = whole_database.append(df_ip)\n",
      "C:\\Users\\rstef\\AppData\\Local\\Temp\\ipykernel_3104\\761061316.py:59: FutureWarning: The frame.append method is deprecated and will be removed from pandas in a future version. Use pandas.concat instead.\n",
      "  whole_database = whole_database.append(df_ip)\n",
      "C:\\Users\\rstef\\AppData\\Local\\Temp\\ipykernel_3104\\761061316.py:59: FutureWarning: The frame.append method is deprecated and will be removed from pandas in a future version. Use pandas.concat instead.\n",
      "  whole_database = whole_database.append(df_ip)\n",
      "C:\\Users\\rstef\\AppData\\Local\\Temp\\ipykernel_3104\\761061316.py:59: FutureWarning: The frame.append method is deprecated and will be removed from pandas in a future version. Use pandas.concat instead.\n",
      "  whole_database = whole_database.append(df_ip)\n",
      "C:\\Users\\rstef\\AppData\\Local\\Temp\\ipykernel_3104\\761061316.py:59: FutureWarning: The frame.append method is deprecated and will be removed from pandas in a future version. Use pandas.concat instead.\n",
      "  whole_database = whole_database.append(df_ip)\n",
      "C:\\Users\\rstef\\AppData\\Local\\Temp\\ipykernel_3104\\761061316.py:59: FutureWarning: The frame.append method is deprecated and will be removed from pandas in a future version. Use pandas.concat instead.\n",
      "  whole_database = whole_database.append(df_ip)\n",
      "C:\\Users\\rstef\\AppData\\Local\\Temp\\ipykernel_3104\\761061316.py:59: FutureWarning: The frame.append method is deprecated and will be removed from pandas in a future version. Use pandas.concat instead.\n",
      "  whole_database = whole_database.append(df_ip)\n",
      "C:\\Users\\rstef\\AppData\\Local\\Temp\\ipykernel_3104\\761061316.py:59: FutureWarning: The frame.append method is deprecated and will be removed from pandas in a future version. Use pandas.concat instead.\n",
      "  whole_database = whole_database.append(df_ip)\n",
      "C:\\Users\\rstef\\AppData\\Local\\Temp\\ipykernel_3104\\761061316.py:59: FutureWarning: The frame.append method is deprecated and will be removed from pandas in a future version. Use pandas.concat instead.\n",
      "  whole_database = whole_database.append(df_ip)\n",
      "C:\\Users\\rstef\\AppData\\Local\\Temp\\ipykernel_3104\\761061316.py:59: FutureWarning: The frame.append method is deprecated and will be removed from pandas in a future version. Use pandas.concat instead.\n",
      "  whole_database = whole_database.append(df_ip)\n",
      "C:\\Users\\rstef\\AppData\\Local\\Temp\\ipykernel_3104\\761061316.py:59: FutureWarning: The frame.append method is deprecated and will be removed from pandas in a future version. Use pandas.concat instead.\n",
      "  whole_database = whole_database.append(df_ip)\n",
      "C:\\Users\\rstef\\AppData\\Local\\Temp\\ipykernel_3104\\761061316.py:59: FutureWarning: The frame.append method is deprecated and will be removed from pandas in a future version. Use pandas.concat instead.\n",
      "  whole_database = whole_database.append(df_ip)\n",
      "C:\\Users\\rstef\\AppData\\Local\\Temp\\ipykernel_3104\\761061316.py:59: FutureWarning: The frame.append method is deprecated and will be removed from pandas in a future version. Use pandas.concat instead.\n",
      "  whole_database = whole_database.append(df_ip)\n",
      "C:\\Users\\rstef\\AppData\\Local\\Temp\\ipykernel_3104\\761061316.py:59: FutureWarning: The frame.append method is deprecated and will be removed from pandas in a future version. Use pandas.concat instead.\n",
      "  whole_database = whole_database.append(df_ip)\n",
      "C:\\Users\\rstef\\AppData\\Local\\Temp\\ipykernel_3104\\761061316.py:59: FutureWarning: The frame.append method is deprecated and will be removed from pandas in a future version. Use pandas.concat instead.\n",
      "  whole_database = whole_database.append(df_ip)\n",
      "C:\\Users\\rstef\\AppData\\Local\\Temp\\ipykernel_3104\\761061316.py:59: FutureWarning: The frame.append method is deprecated and will be removed from pandas in a future version. Use pandas.concat instead.\n",
      "  whole_database = whole_database.append(df_ip)\n"
     ]
    },
    {
     "name": "stderr",
     "output_type": "stream",
     "text": [
      "C:\\Users\\rstef\\AppData\\Local\\Temp\\ipykernel_3104\\761061316.py:59: FutureWarning: The frame.append method is deprecated and will be removed from pandas in a future version. Use pandas.concat instead.\n",
      "  whole_database = whole_database.append(df_ip)\n",
      "C:\\Users\\rstef\\AppData\\Local\\Temp\\ipykernel_3104\\761061316.py:59: FutureWarning: The frame.append method is deprecated and will be removed from pandas in a future version. Use pandas.concat instead.\n",
      "  whole_database = whole_database.append(df_ip)\n",
      "C:\\Users\\rstef\\AppData\\Local\\Temp\\ipykernel_3104\\761061316.py:59: FutureWarning: The frame.append method is deprecated and will be removed from pandas in a future version. Use pandas.concat instead.\n",
      "  whole_database = whole_database.append(df_ip)\n",
      "C:\\Users\\rstef\\AppData\\Local\\Temp\\ipykernel_3104\\761061316.py:59: FutureWarning: The frame.append method is deprecated and will be removed from pandas in a future version. Use pandas.concat instead.\n",
      "  whole_database = whole_database.append(df_ip)\n",
      "C:\\Users\\rstef\\AppData\\Local\\Temp\\ipykernel_3104\\761061316.py:59: FutureWarning: The frame.append method is deprecated and will be removed from pandas in a future version. Use pandas.concat instead.\n",
      "  whole_database = whole_database.append(df_ip)\n",
      "C:\\Users\\rstef\\AppData\\Local\\Temp\\ipykernel_3104\\761061316.py:59: FutureWarning: The frame.append method is deprecated and will be removed from pandas in a future version. Use pandas.concat instead.\n",
      "  whole_database = whole_database.append(df_ip)\n",
      "C:\\Users\\rstef\\AppData\\Local\\Temp\\ipykernel_3104\\761061316.py:59: FutureWarning: The frame.append method is deprecated and will be removed from pandas in a future version. Use pandas.concat instead.\n",
      "  whole_database = whole_database.append(df_ip)\n",
      "C:\\Users\\rstef\\AppData\\Local\\Temp\\ipykernel_3104\\761061316.py:59: FutureWarning: The frame.append method is deprecated and will be removed from pandas in a future version. Use pandas.concat instead.\n",
      "  whole_database = whole_database.append(df_ip)\n",
      "C:\\Users\\rstef\\AppData\\Local\\Temp\\ipykernel_3104\\761061316.py:59: FutureWarning: The frame.append method is deprecated and will be removed from pandas in a future version. Use pandas.concat instead.\n",
      "  whole_database = whole_database.append(df_ip)\n",
      "C:\\Users\\rstef\\AppData\\Local\\Temp\\ipykernel_3104\\761061316.py:59: FutureWarning: The frame.append method is deprecated and will be removed from pandas in a future version. Use pandas.concat instead.\n",
      "  whole_database = whole_database.append(df_ip)\n",
      "C:\\Users\\rstef\\AppData\\Local\\Temp\\ipykernel_3104\\761061316.py:59: FutureWarning: The frame.append method is deprecated and will be removed from pandas in a future version. Use pandas.concat instead.\n",
      "  whole_database = whole_database.append(df_ip)\n",
      "C:\\Users\\rstef\\AppData\\Local\\Temp\\ipykernel_3104\\761061316.py:59: FutureWarning: The frame.append method is deprecated and will be removed from pandas in a future version. Use pandas.concat instead.\n",
      "  whole_database = whole_database.append(df_ip)\n",
      "C:\\Users\\rstef\\AppData\\Local\\Temp\\ipykernel_3104\\761061316.py:59: FutureWarning: The frame.append method is deprecated and will be removed from pandas in a future version. Use pandas.concat instead.\n",
      "  whole_database = whole_database.append(df_ip)\n",
      "C:\\Users\\rstef\\AppData\\Local\\Temp\\ipykernel_3104\\761061316.py:59: FutureWarning: The frame.append method is deprecated and will be removed from pandas in a future version. Use pandas.concat instead.\n",
      "  whole_database = whole_database.append(df_ip)\n",
      "C:\\Users\\rstef\\AppData\\Local\\Temp\\ipykernel_3104\\761061316.py:59: FutureWarning: The frame.append method is deprecated and will be removed from pandas in a future version. Use pandas.concat instead.\n",
      "  whole_database = whole_database.append(df_ip)\n",
      "C:\\Users\\rstef\\AppData\\Local\\Temp\\ipykernel_3104\\761061316.py:59: FutureWarning: The frame.append method is deprecated and will be removed from pandas in a future version. Use pandas.concat instead.\n",
      "  whole_database = whole_database.append(df_ip)\n",
      "C:\\Users\\rstef\\AppData\\Local\\Temp\\ipykernel_3104\\761061316.py:59: FutureWarning: The frame.append method is deprecated and will be removed from pandas in a future version. Use pandas.concat instead.\n",
      "  whole_database = whole_database.append(df_ip)\n",
      "C:\\Users\\rstef\\AppData\\Local\\Temp\\ipykernel_3104\\761061316.py:59: FutureWarning: The frame.append method is deprecated and will be removed from pandas in a future version. Use pandas.concat instead.\n",
      "  whole_database = whole_database.append(df_ip)\n",
      "C:\\Users\\rstef\\AppData\\Local\\Temp\\ipykernel_3104\\761061316.py:59: FutureWarning: The frame.append method is deprecated and will be removed from pandas in a future version. Use pandas.concat instead.\n",
      "  whole_database = whole_database.append(df_ip)\n"
     ]
    }
   ],
   "source": [
    "# Create a database to store each record\n",
    "whole_database = pd.DataFrame()\n",
    "\n",
    "count = 1 \n",
    "\n",
    "# Going through all unique IPs of the CSV file\n",
    "for ip_address in df[\"Source IP\"].unique():\n",
    "    \n",
    "    # Apply preprocess_ip to source IP column to transform them into numerical format\n",
    "    df['ip_features'] = df['Source IP'].apply(preprocess_ip)\n",
    "    \n",
    "    # Create a Category column with an initial value - the randomly generated number between 1 and 4.\n",
    "    df[\"Category\"] = category\n",
    "    \n",
    "    # Show the important columns in a separate dataframe\n",
    "    df_ip = df.loc[df[\"Source IP\"]==ip_address, [\"Source IP\", \"packet length\", \"Category\", \"ip_features\"]]\n",
    "    # print(f\"IP number:{count}\")\n",
    "    \n",
    "    # Get the mean for each IP's packet length\n",
    "    packet_length_mean = df_ip[\"packet length\"].mean()\n",
    "    \n",
    "    # Create a column for the mean\n",
    "    df_ip[\"mean\"] = \"{:.3f}\".format(packet_length_mean)\n",
    "\n",
    "    # Get the standard deviation\n",
    "    packet_length_std = df_ip[\"packet length\"].std()\n",
    "    z_score = (df_ip[\"packet length\"] - packet_length_mean)/packet_length_std\n",
    "    \n",
    "    # Create a column for the standard deviation of each IP.\n",
    "    df_ip[\"std\"] = \"{:.3f}\".format(packet_length_std)\n",
    "    # packet_length_std_formatted = \"{:.2f}\".format(packet_length_std)\n",
    "\n",
    "    # create new column for difference from mean \n",
    "    df_ip[\"pack_len_diff_mean\"] = df_ip[\"packet length\"] - packet_length_mean\n",
    "    \n",
    "    # for the Standard deviation of each packet, we take the Z-score \n",
    "    df_ip[\"z_score\"] = z_score\n",
    "    # df_ip[\"z_score\"] = (df_ip[\"packet length\"] - packet_length_mean)/packet_length_std\n",
    "\n",
    "    \n",
    "    # print(df_ip[\"z_score\"].head())\n",
    "    \n",
    "    z_score_data = df_ip[\"z_score\"]\n",
    "    \n",
    "    # looping through all the records for this IP to determine the category of the packet depending on its length.\n",
    "    for z_score in range(len(z_score_data)):\n",
    "        value = float(z_score_data.iloc[z_score])\n",
    "        category_val = df_ip[\"Category\"].iat[z_score]\n",
    "        if value <= -1.5:\n",
    "            df_ip[\"Category\"].iat[z_score] = 3 # Ransomware \n",
    "        elif value >= 1.5:\n",
    "            df_ip[\"Category\"].iat[z_score] = 2 # Malware\n",
    "        else: \n",
    "            df_ip[\"Category\"].iat[z_score] = 1 # Legitimate traffic\n",
    "    \n",
    "#     print(f\"Packet length mean: {packet_length_mean}\")\n",
    "#     print(f\"Packet length STD: {packet_length_std}\")\n",
    "    \n",
    "    whole_database = whole_database.append(df_ip)\n",
    "    count += 1\n",
    "    \n"
   ]
  },
  {
   "cell_type": "code",
   "execution_count": 41,
   "id": "f8015015",
   "metadata": {},
   "outputs": [
    {
     "name": "stdout",
     "output_type": "stream",
     "text": [
      "<class 'int'>\n"
     ]
    }
   ],
   "source": [
    "print(type(z_score))"
   ]
  },
  {
   "cell_type": "code",
   "execution_count": 35,
   "id": "94b4cdd6",
   "metadata": {},
   "outputs": [
    {
     "name": "stdout",
     "output_type": "stream",
     "text": [
      "        Source IP  packet length  Category          ip_features    mean  \\\n",
      "0  40.114.177.156             93         2  [40, 114, 177, 156]  64.833   \n",
      "1  40.114.177.156             78         1  [40, 114, 177, 156]  64.833   \n",
      "6  40.114.177.156             56         1  [40, 114, 177, 156]  64.833   \n",
      "7  40.114.177.156             54         1  [40, 114, 177, 156]  64.833   \n",
      "8  40.114.177.156             54         1  [40, 114, 177, 156]  64.833   \n",
      "\n",
      "      std  pack_len_diff_mean   z_score  \n",
      "0  16.714           28.166667  1.685187  \n",
      "1  16.714           13.166667  0.787750  \n",
      "6  16.714           -8.833333 -0.528491  \n",
      "7  16.714          -10.833333 -0.648149  \n",
      "8  16.714          -10.833333 -0.648149  \n"
     ]
    }
   ],
   "source": [
    "print(whole_database.head())"
   ]
  },
  {
   "cell_type": "markdown",
   "id": "c5e2915f",
   "metadata": {},
   "source": [
    "## Redo the Random Forest Classification with a different approach"
   ]
  },
  {
   "cell_type": "markdown",
   "id": "81cfa526",
   "metadata": {},
   "source": [
    "### Create a test DataBase to append the Z-score to the \"ip_features\" column"
   ]
  },
  {
   "cell_type": "code",
   "execution_count": 38,
   "id": "5eaaedac",
   "metadata": {},
   "outputs": [
    {
     "name": "stdout",
     "output_type": "stream",
     "text": [
      "        Source IP  packet length  Category          ip_features    mean  \\\n",
      "0  40.114.177.156             93         2  [40, 114, 177, 156]  64.833   \n",
      "1  40.114.177.156             78         1  [40, 114, 177, 156]  64.833   \n",
      "6  40.114.177.156             56         1  [40, 114, 177, 156]  64.833   \n",
      "7  40.114.177.156             54         1  [40, 114, 177, 156]  64.833   \n",
      "8  40.114.177.156             54         1  [40, 114, 177, 156]  64.833   \n",
      "\n",
      "      std  pack_len_diff_mean   z_score  \n",
      "0  16.714           28.166667  1.685187  \n",
      "1  16.714           13.166667  0.787750  \n",
      "6  16.714           -8.833333 -0.528491  \n",
      "7  16.714          -10.833333 -0.648149  \n",
      "8  16.714          -10.833333 -0.648149  \n"
     ]
    }
   ],
   "source": [
    "test_db = whole_database\n",
    "# print(f\"test_db:\\n {test_db.head()}\")\n",
    "print(test_db.head())"
   ]
  },
  {
   "cell_type": "markdown",
   "id": "5f8e93c2",
   "metadata": {},
   "source": [
    "### Loop over each row in the DataFrame and append the packet length and z-score to the ip_features column\n"
   ]
  },
  {
   "cell_type": "code",
   "execution_count": 39,
   "id": "e03e38c3",
   "metadata": {},
   "outputs": [
    {
     "name": "stdout",
     "output_type": "stream",
     "text": [
      "        Source IP  packet length  Category  \\\n",
      "0  40.114.177.156             93         2   \n",
      "1  40.114.177.156             78         1   \n",
      "6  40.114.177.156             56         1   \n",
      "7  40.114.177.156             54         1   \n",
      "8  40.114.177.156             54         1   \n",
      "\n",
      "                                         ip_features    mean     std  \\\n",
      "0  [40, 114, 177, 156, 93, 16.714, 1.685187236939...  64.833  16.714   \n",
      "1  [40, 114, 177, 156, 78, 16.714, 0.787750246853...  64.833  16.714   \n",
      "6  [40, 114, 177, 156, 56, 16.714, -0.52849067193...  64.833  16.714   \n",
      "7  [40, 114, 177, 156, 54, 16.714, -0.64814893728...  64.833  16.714   \n",
      "8  [40, 114, 177, 156, 54, 16.714, -0.64814893728...  64.833  16.714   \n",
      "\n",
      "   pack_len_diff_mean   z_score  \n",
      "0           28.166667  1.685187  \n",
      "1           13.166667  0.787750  \n",
      "6           -8.833333 -0.528491  \n",
      "7          -10.833333 -0.648149  \n",
      "8          -10.833333 -0.648149  \n"
     ]
    }
   ],
   "source": [
    "for index, row in test_db.iterrows():\n",
    "    row[\"ip_features\"].append(row[\"packet length\"])\n",
    "    row[\"ip_features\"].append(row[\"std\"])\n",
    "    row[\"ip_features\"].append(row[\"z_score\"])\n",
    "    \n",
    "    \n",
    "    \n",
    "# or alternatively, use the apply method\n",
    "# test_db[\"ip_features\"] = test_db.apply(lambda row:row[\"ip_features\"] + [row[\"z_score\"]], axis=1)\n",
    "    \n",
    "print(test_db.head())"
   ]
  },
  {
   "cell_type": "markdown",
   "id": "459f1309",
   "metadata": {},
   "source": [
    "### Creating the real Random Forest Classifier"
   ]
  },
  {
   "cell_type": "markdown",
   "id": "1c6a97a3",
   "metadata": {},
   "source": [
    "#### Preprocessing phase and visualisation of the results via confustion matrix"
   ]
  },
  {
   "cell_type": "code",
   "execution_count": 41,
   "id": "ba749714",
   "metadata": {},
   "outputs": [
    {
     "name": "stdout",
     "output_type": "stream",
     "text": [
      "Accuracy:  1.0\n"
     ]
    },
    {
     "data": {
      "image/png": "[encoded data removed]",
      "text/plain": [
       "<Figure size 640x480 with 2 Axes>"
      ]
     },
     "metadata": {},
     "output_type": "display_data"
    }
   ],
   "source": [
    "# Drop rows with missing values\n",
    "test_db.dropna(inplace=True)\n",
    "\n",
    "# Create X and y arrays\n",
    "X = test_db[\"ip_features\"].tolist()\n",
    "y = test_db[\"Category\"].tolist()\n",
    "\n",
    "# Split dataset into training and testing sets\n",
    "X_train, X_test, y_train, y_test = train_test_split(X, y, test_size=0.4, random_state=42)\n",
    "\n",
    "# Create random forrest classifier object\n",
    "rf = RandomForestClassifier(n_estimators=100, random_state=42) \n",
    "\n",
    "# Train the classifier\n",
    "rf.fit(X_train, y_train)\n",
    "\n",
    "# Predict on test set\n",
    "y_pred = rf.predict(X_test)\n",
    "\n",
    "# Calculate accuracy\n",
    "accuracy = accuracy_score(y_test, y_pred)\n",
    "print(\"Accuracy: \", accuracy)\n",
    "\n",
    "# Calculate confustion matrix\n",
    "cm = confusion_matrix(y_test, y_pred)\n",
    "\n",
    "# Plot confusion matrix heatmap\n",
    "sns.heatmap(cm, annot=True, cmap=\"Blues\")\n",
    "\n",
    "# Set x and y labels\n",
    "plt.xlabel(\"Predicted values\")\n",
    "plt.ylabel(\"True values\")\n",
    "\n",
    "# Display the plot\n",
    "plt.show()\n",
    "    "
   ]
  },
  {
   "cell_type": "markdown",
   "id": "eff9667d",
   "metadata": {},
   "source": [
    "Sum of all records"
   ]
  },
  {
   "cell_type": "code",
   "execution_count": 54,
   "id": "02e6640a",
   "metadata": {},
   "outputs": [
    {
     "data": {
      "text/plain": [
       "27315"
      ]
     },
     "execution_count": 54,
     "metadata": {},
     "output_type": "execute_result"
    }
   ],
   "source": [
    "total = len(X_train) + len(X_test)\n",
    "total"
   ]
  },
  {
   "cell_type": "markdown",
   "id": "d22c4f29",
   "metadata": {},
   "source": [
    "Their distribution for X and y"
   ]
  },
  {
   "cell_type": "code",
   "execution_count": 61,
   "id": "c9e38e5d",
   "metadata": {},
   "outputs": [
    {
     "name": "stdout",
     "output_type": "stream",
     "text": [
      "X_train:  0.6\n",
      "X_test:  0.4\n"
     ]
    }
   ],
   "source": [
    "len(X_train), len(X_test)\n",
    "\n",
    "print(\"X_train: \", len(X_train)/total)\n",
    "\n",
    "print(\"X_test: \", len(X_test)/total)"
   ]
  },
  {
   "cell_type": "code",
   "execution_count": 60,
   "id": "7ad504ed",
   "metadata": {},
   "outputs": [
    {
     "name": "stdout",
     "output_type": "stream",
     "text": [
      "y_train:  0.6\n",
      "y_test:  0.4\n"
     ]
    }
   ],
   "source": [
    "len(y_train), len(y_test)\n",
    "\n",
    "print(\"y_train: \", len(y_train)/total)\n",
    "\n",
    "print(\"y_test: \", len(y_test)/total)"
   ]
  },
  {
   "cell_type": "markdown",
   "id": "c6e02a69",
   "metadata": {},
   "source": [
    "## Get the count of each category and plot it into a bar chart"
   ]
  },
  {
   "cell_type": "code",
   "execution_count": 14,
   "id": "02707346",
   "metadata": {},
   "outputs": [
    {
     "name": "stdout",
     "output_type": "stream",
     "text": [
      "Legitimate:  25912 \n",
      "Malware:  438 \n",
      "Ransomware:  965\n"
     ]
    },
    {
     "data": {
      "image/png": "[encoded data removed]",
      "text/plain": [
       "<Figure size 640x480 with 1 Axes>"
      ]
     },
     "metadata": {},
     "output_type": "display_data"
    }
   ],
   "source": [
    "legitimate1 = 0\n",
    "malware2 = 0\n",
    "ransomware3 = 0\n",
    "\n",
    "for cat in range(len(test_db[\"Category\"])):\n",
    "    value = test_db[\"Category\"].iloc[cat]\n",
    "    if value == 1:\n",
    "        legitimate1 += 1\n",
    "    elif value == 2:\n",
    "        malware2 += 1\n",
    "    elif value == 3:\n",
    "        ransomware3 += 1\n",
    "        \n",
    "y = [legitimate1, malware2, ransomware3]\n",
    "print(\"Legitimate: \", legitimate1, \"\\nMalware: \", malware2, \"\\nRansomware: \", ransomware3)\n",
    "\n",
    "y_detail = [25905, 438, 965]\n",
    "x = [1, 2, 3]\n",
    "\n",
    "plt.bar(x, y)\n",
    "plt.xlabel(\"Classifier codes\")\n",
    "plt.ylabel(\"Count for each match\")\n",
    "plt.show()\n"
   ]
  },
  {
   "cell_type": "markdown",
   "id": "db42c88c",
   "metadata": {},
   "source": [
    "### Adding the values of each category in the bar chart"
   ]
  },
  {
   "cell_type": "code",
   "execution_count": 15,
   "id": "82ee9643",
   "metadata": {},
   "outputs": [
    {
     "data": {
      "image/png": "[encoded data removed]",
      "text/plain": [
       "<Figure size 640x480 with 1 Axes>"
      ]
     },
     "metadata": {},
     "output_type": "display_data"
    }
   ],
   "source": [
    "x = [1, 2, 3]\n",
    "y_detail = [25905, 438, 965]\n",
    "\n",
    "fig, ax = plt.subplots()\n",
    "rects = ax.bar(x, y)\n",
    "\n",
    "# Add labels to the top of each bar\n",
    "for rect in rects: \n",
    "    height = rect.get_height()\n",
    "    ax.text(rect.get_x() + rect.get_width()/2., height, height,\n",
    "           ha=\"center\", va=\"bottom\")\n",
    "plt.xlabel(\"Classifier codes\")\n",
    "plt.ylabel(\"Count for each match\")\n",
    "plt.show()"
   ]
  },
  {
   "cell_type": "markdown",
   "id": "38ca7f10",
   "metadata": {},
   "source": [
    "Visualise the y_test - the actual data and y_pred - the predictions."
   ]
  },
  {
   "cell_type": "code",
   "execution_count": 67,
   "id": "ddc95f3f",
   "metadata": {},
   "outputs": [
    {
     "name": "stdout",
     "output_type": "stream",
     "text": [
      "Legitimate:  10413 \n",
      "Malware:  166 \n",
      "Ransomware:  347\n"
     ]
    },
    {
     "data": {
      "image/png": "[encoded data removed]",
      "text/plain": [
       "<Figure size 640x480 with 1 Axes>"
      ]
     },
     "metadata": {},
     "output_type": "display_data"
    }
   ],
   "source": [
    "legitimate1 = 0\n",
    "malware2 = 0\n",
    "ransomware3 = 0\n",
    "\n",
    "x = (1, 2, 3)\n",
    "\n",
    "for cat in range(len(y_test)):\n",
    "    value = y_pred[cat]\n",
    "    if value == 1:\n",
    "        legitimate1 += 1\n",
    "    elif value == 2:\n",
    "        malware2 += 1\n",
    "    elif value == 3:\n",
    "        ransomware3 += 1\n",
    "        \n",
    "y = [legitimate1, malware2, ransomware3]\n",
    "print(\"Legitimate: \", legitimate1, \"\\nMalware: \", malware2, \"\\nRansomware: \", ransomware3)\n",
    "\n",
    "\n",
    "fig, ax = plt.subplots()\n",
    "rects = ax.bar(x, y)\n",
    "\n",
    "# Add labels to the top of each bar\n",
    "for rect in rects: \n",
    "    height = rect.get_height()\n",
    "    ax.text(rect.get_x() + rect.get_width()/2., height, height,\n",
    "           ha=\"center\", va=\"bottom\")\n",
    "plt.xlabel(\"Classifier codes\")\n",
    "plt.ylabel(\"Count for each match\")\n",
    "plt.show()\n"
   ]
  },
  {
   "cell_type": "code",
   "execution_count": 68,
   "id": "219e7d66",
   "metadata": {},
   "outputs": [
    {
     "name": "stdout",
     "output_type": "stream",
     "text": [
      "Legitimate:  10413 \n",
      "Malware:  166 \n",
      "Ransomware:  347\n"
     ]
    },
    {
     "data": {
      "image/png": "[encoded data removed]",
      "text/plain": [
       "<Figure size 640x480 with 1 Axes>"
      ]
     },
     "metadata": {},
     "output_type": "display_data"
    }
   ],
   "source": [
    "legitimate1 = 0\n",
    "malware2 = 0\n",
    "ransomware3 = 0\n",
    "\n",
    "x = (1, 2, 3)\n",
    "\n",
    "for cat in range(len(y_pred)):\n",
    "    value = y_pred[cat]\n",
    "    if value == 1:\n",
    "        legitimate1 += 1\n",
    "    elif value == 2:\n",
    "        malware2 += 1\n",
    "    elif value == 3:\n",
    "        ransomware3 += 1\n",
    "        \n",
    "y = [legitimate1, malware2, ransomware3]\n",
    "print(\"Legitimate: \", legitimate1, \"\\nMalware: \", malware2, \"\\nRansomware: \", ransomware3)\n",
    "\n",
    "\n",
    "fig, ax = plt.subplots()\n",
    "rects = ax.bar(x, y)\n",
    "\n",
    "# Add labels to the top of each bar\n",
    "for rect in rects: \n",
    "    height = rect.get_height()\n",
    "    ax.text(rect.get_x() + rect.get_width()/2., height, height,\n",
    "           ha=\"center\", va=\"bottom\")\n",
    "plt.xlabel(\"Classifier codes\")\n",
    "plt.ylabel(\"Count for each match\")\n",
    "plt.show()"
   ]
  }
 ],
 "metadata": {
  "kernelspec": {
   "display_name": "Python 3 (ipykernel)",
   "language": "python",
   "name": "python3"
  },
  "language_info": {
   "codemirror_mode": {
    "name": "ipython",
    "version": 3
   },
   "file_extension": ".py",
   "mimetype": "text/x-python",
   "name": "python",
   "nbconvert_exporter": "python",
   "pygments_lexer": "ipython3",
   "version": "3.9.13"
  }
 },
 "nbformat": 4,
 "nbformat_minor": 5
}
